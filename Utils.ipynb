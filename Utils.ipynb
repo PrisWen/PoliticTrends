{
  "nbformat": 4,
  "nbformat_minor": 0,
  "metadata": {
    "colab": {
      "name": "Utils.ipynb",
      "provenance": [],
      "collapsed_sections": []
    },
    "kernelspec": {
      "name": "python3",
      "display_name": "Python 3"
    }
  },
  "cells": [
    {
      "cell_type": "markdown",
      "metadata": {
        "id": "WxecvRa_B6Pw"
      },
      "source": [
        "codigo para filtrar solo de las elecciones"
      ]
    },
    {
      "cell_type": "code",
      "metadata": {
        "id": "xjXr-EPF4M3f"
      },
      "source": [
        "path = \"/content/drive/My Drive/Hackaton Elecciones/test/\"#/datos compilados/\""
      ],
      "execution_count": 4,
      "outputs": []
    },
    {
      "cell_type": "code",
      "metadata": {
        "id": "Z8LIPBYw5L5U"
      },
      "source": [
        "import pandas as pd\n",
        "df_inicial=pd.read_csv(path+'elDeber_2020-09-01.csv')#'el_deber_consolidado.csv')\n"
      ],
      "execution_count": 5,
      "outputs": []
    },
    {
      "cell_type": "code",
      "metadata": {
        "id": "2Yssc2Di6K_T",
        "outputId": "785018e4-8004-42e2-c7c0-61b50ce247b6",
        "colab": {
          "base_uri": "https://localhost:8080/",
          "height": 206
        }
      },
      "source": [
        "df_inicial.head()"
      ],
      "execution_count": null,
      "outputs": [
        {
          "output_type": "execute_result",
          "data": {
            "text/html": [
              "<div>\n",
              "<style scoped>\n",
              "    .dataframe tbody tr th:only-of-type {\n",
              "        vertical-align: middle;\n",
              "    }\n",
              "\n",
              "    .dataframe tbody tr th {\n",
              "        vertical-align: top;\n",
              "    }\n",
              "\n",
              "    .dataframe thead th {\n",
              "        text-align: right;\n",
              "    }\n",
              "</style>\n",
              "<table border=\"1\" class=\"dataframe\">\n",
              "  <thead>\n",
              "    <tr style=\"text-align: right;\">\n",
              "      <th></th>\n",
              "      <th>data-item-id</th>\n",
              "      <th>data-conversation-id</th>\n",
              "      <th>username</th>\n",
              "      <th>tweet</th>\n",
              "      <th>avatar</th>\n",
              "      <th>date</th>\n",
              "    </tr>\n",
              "  </thead>\n",
              "  <tbody>\n",
              "    <tr>\n",
              "      <th>0</th>\n",
              "      <td>1300913308069961730</td>\n",
              "      <td>1300913308069961730</td>\n",
              "      <td>@grupoeldeber</td>\n",
              "      <td>Lee más información en » eldeber.com.bo pic....</td>\n",
              "      <td>https://pbs.twimg.com/profile_images/116419476...</td>\n",
              "      <td>2020-09-01</td>\n",
              "    </tr>\n",
              "    <tr>\n",
              "      <th>1</th>\n",
              "      <td>1300941101839388673</td>\n",
              "      <td>1300941101839388673</td>\n",
              "      <td>@grupoeldeber</td>\n",
              "      <td>Sosa se encuentra en la sede de Gobierno don...</td>\n",
              "      <td>https://pbs.twimg.com/profile_images/116419476...</td>\n",
              "      <td>2020-09-01</td>\n",
              "    </tr>\n",
              "    <tr>\n",
              "      <th>2</th>\n",
              "      <td>1300912178392899584</td>\n",
              "      <td>1300912178392899584</td>\n",
              "      <td>@grupoeldeber</td>\n",
              "      <td>#DIEZ Fichar al seis veces Balón de Oro Lione...</td>\n",
              "      <td>https://pbs.twimg.com/profile_images/116419476...</td>\n",
              "      <td>2020-09-01</td>\n",
              "    </tr>\n",
              "    <tr>\n",
              "      <th>3</th>\n",
              "      <td>1300925429491077122</td>\n",
              "      <td>1300925429491077122</td>\n",
              "      <td>@grupoeldeber</td>\n",
              "      <td>El ex presidente espera la resolución del Tr...</td>\n",
              "      <td>https://pbs.twimg.com/profile_images/116419476...</td>\n",
              "      <td>2020-09-01</td>\n",
              "    </tr>\n",
              "    <tr>\n",
              "      <th>4</th>\n",
              "      <td>1300933879075921920</td>\n",
              "      <td>1300933879075921920</td>\n",
              "      <td>@grupoeldeber</td>\n",
              "      <td>La convocatoria es para el 3 de octubre. Est...</td>\n",
              "      <td>https://pbs.twimg.com/profile_images/116419476...</td>\n",
              "      <td>2020-09-01</td>\n",
              "    </tr>\n",
              "  </tbody>\n",
              "</table>\n",
              "</div>"
            ],
            "text/plain": [
              "          data-item-id  ...        date\n",
              "0  1300913308069961730  ...  2020-09-01\n",
              "1  1300941101839388673  ...  2020-09-01\n",
              "2  1300912178392899584  ...  2020-09-01\n",
              "3  1300925429491077122  ...  2020-09-01\n",
              "4  1300933879075921920  ...  2020-09-01\n",
              "\n",
              "[5 rows x 6 columns]"
            ]
          },
          "metadata": {
            "tags": []
          },
          "execution_count": 35
        }
      ]
    },
    {
      "cell_type": "code",
      "metadata": {
        "id": "5DLRY7HzBQYp"
      },
      "source": [
        "df_inicial['tweet']=df_inicial['tweet'].str.lower()"
      ],
      "execution_count": null,
      "outputs": []
    },
    {
      "cell_type": "code",
      "metadata": {
        "id": "QqN7ivLH6c-U"
      },
      "source": [
        "list_words = pd.DataFrame({'find_words': ['Carlos Mesa','Mesa','Pedrasa','Luis Arce Catacora','Arce','David Choquehuanca','Choquehuanca','Luis Fernando Camacho','Camacho',\n",
        "'Marco Pumari','Jorge Tuto Quiroga','Tuto','María de la  Cruz Bayá','Bayá','Feliciano Mamani','Feliciano','Chi Hyun Chung','Chi',\n",
        "'Comunidad Ciudadana','CC','Creemos','Libre 21','Movimiento Al Socialismo','MAS','Frente para la Victoria','FPV',\n",
        "'Partido de Acción Nacional Boliviano','PAN-BOL','Acción Democrática Nacional','ADN','Eleccion','Debate','Presidencial',\n",
        "'Candidato','Partido político','Partido','político','Campaña','Electoral','Propuesta','Plan de gobierno','Voto',\n",
        "'Intención de voto','Vicepresidente','President','Gobierno']})\n"
      ],
      "execution_count": null,
      "outputs": []
    },
    {
      "cell_type": "code",
      "metadata": {
        "id": "MWTuohkQA0pB",
        "outputId": "06a5b506-7508-4aeb-b11d-12cffae60b91",
        "colab": {
          "base_uri": "https://localhost:8080/",
          "height": 206
        }
      },
      "source": [
        "list_words.head()"
      ],
      "execution_count": null,
      "outputs": [
        {
          "output_type": "execute_result",
          "data": {
            "text/html": [
              "<div>\n",
              "<style scoped>\n",
              "    .dataframe tbody tr th:only-of-type {\n",
              "        vertical-align: middle;\n",
              "    }\n",
              "\n",
              "    .dataframe tbody tr th {\n",
              "        vertical-align: top;\n",
              "    }\n",
              "\n",
              "    .dataframe thead th {\n",
              "        text-align: right;\n",
              "    }\n",
              "</style>\n",
              "<table border=\"1\" class=\"dataframe\">\n",
              "  <thead>\n",
              "    <tr style=\"text-align: right;\">\n",
              "      <th></th>\n",
              "      <th>find_words</th>\n",
              "    </tr>\n",
              "  </thead>\n",
              "  <tbody>\n",
              "    <tr>\n",
              "      <th>0</th>\n",
              "      <td>Carlos Mesa</td>\n",
              "    </tr>\n",
              "    <tr>\n",
              "      <th>1</th>\n",
              "      <td>Mesa</td>\n",
              "    </tr>\n",
              "    <tr>\n",
              "      <th>2</th>\n",
              "      <td>Pedrasa</td>\n",
              "    </tr>\n",
              "    <tr>\n",
              "      <th>3</th>\n",
              "      <td>Luis Arce Catacora</td>\n",
              "    </tr>\n",
              "    <tr>\n",
              "      <th>4</th>\n",
              "      <td>Arce</td>\n",
              "    </tr>\n",
              "  </tbody>\n",
              "</table>\n",
              "</div>"
            ],
            "text/plain": [
              "           find_words\n",
              "0         Carlos Mesa\n",
              "1                Mesa\n",
              "2             Pedrasa\n",
              "3  Luis Arce Catacora\n",
              "4                Arce"
            ]
          },
          "metadata": {
            "tags": []
          },
          "execution_count": 66
        }
      ]
    },
    {
      "cell_type": "code",
      "metadata": {
        "id": "kEYZ9fPDADAN"
      },
      "source": [
        "list_words['find_words']=list_words['find_words'].str.lower()"
      ],
      "execution_count": null,
      "outputs": []
    },
    {
      "cell_type": "code",
      "metadata": {
        "id": "LXJMsDYeAJ8Z",
        "outputId": "b665eab8-1903-44f1-dc32-416c57b659ec",
        "colab": {
          "base_uri": "https://localhost:8080/",
          "height": 206
        }
      },
      "source": [
        "list_words.head()"
      ],
      "execution_count": null,
      "outputs": [
        {
          "output_type": "execute_result",
          "data": {
            "text/html": [
              "<div>\n",
              "<style scoped>\n",
              "    .dataframe tbody tr th:only-of-type {\n",
              "        vertical-align: middle;\n",
              "    }\n",
              "\n",
              "    .dataframe tbody tr th {\n",
              "        vertical-align: top;\n",
              "    }\n",
              "\n",
              "    .dataframe thead th {\n",
              "        text-align: right;\n",
              "    }\n",
              "</style>\n",
              "<table border=\"1\" class=\"dataframe\">\n",
              "  <thead>\n",
              "    <tr style=\"text-align: right;\">\n",
              "      <th></th>\n",
              "      <th>find_words</th>\n",
              "    </tr>\n",
              "  </thead>\n",
              "  <tbody>\n",
              "    <tr>\n",
              "      <th>0</th>\n",
              "      <td>carlos mesa</td>\n",
              "    </tr>\n",
              "    <tr>\n",
              "      <th>1</th>\n",
              "      <td>mesa</td>\n",
              "    </tr>\n",
              "    <tr>\n",
              "      <th>2</th>\n",
              "      <td>pedrasa</td>\n",
              "    </tr>\n",
              "    <tr>\n",
              "      <th>3</th>\n",
              "      <td>luis arce catacora</td>\n",
              "    </tr>\n",
              "    <tr>\n",
              "      <th>4</th>\n",
              "      <td>arce</td>\n",
              "    </tr>\n",
              "  </tbody>\n",
              "</table>\n",
              "</div>"
            ],
            "text/plain": [
              "           find_words\n",
              "0         carlos mesa\n",
              "1                mesa\n",
              "2             pedrasa\n",
              "3  luis arce catacora\n",
              "4                arce"
            ]
          },
          "metadata": {
            "tags": []
          },
          "execution_count": 68
        }
      ]
    },
    {
      "cell_type": "code",
      "metadata": {
        "id": "-9_BqUNr_3Kg",
        "outputId": "1c27bc37-1179-4cbc-cb66-862efe684c9d",
        "colab": {
          "base_uri": "https://localhost:8080/",
          "height": 279
        }
      },
      "source": [
        "mask = [any(i in words for i in list_words['find_words'].values) \\\n",
        "        for words in df_inicial['tweet'].str.split().values]\n",
        "\n",
        "print(df_inicial[mask])\n",
        "df_eleccion=df_inicial[mask]"
      ],
      "execution_count": null,
      "outputs": [
        {
          "output_type": "stream",
          "text": [
            "            data-item-id  ...        date\n",
            "1    1300941101839388673  ...  2020-09-01\n",
            "3    1300925429491077122  ...  2020-09-01\n",
            "5    1300923969642680321  ...  2020-09-01\n",
            "21   1300941101839388673  ...  2020-09-01\n",
            "27   1300925429491077122  ...  2020-09-01\n",
            "..                   ...  ...         ...\n",
            "475  1300925429491077122  ...  2020-09-01\n",
            "476  1300923969642680321  ...  2020-09-01\n",
            "485  1300941101839388673  ...  2020-09-01\n",
            "491  1300925429491077122  ...  2020-09-01\n",
            "492  1300923969642680321  ...  2020-09-01\n",
            "\n",
            "[93 rows x 6 columns]\n"
          ],
          "name": "stdout"
        }
      ]
    },
    {
      "cell_type": "code",
      "metadata": {
        "id": "eYIREOSjBjuI",
        "outputId": "56118ee0-d30a-4d00-8d4a-1f17b6c5d7b9",
        "colab": {
          "base_uri": "https://localhost:8080/",
          "height": 206
        }
      },
      "source": [
        "df_eleccion.head()"
      ],
      "execution_count": null,
      "outputs": [
        {
          "output_type": "execute_result",
          "data": {
            "text/html": [
              "<div>\n",
              "<style scoped>\n",
              "    .dataframe tbody tr th:only-of-type {\n",
              "        vertical-align: middle;\n",
              "    }\n",
              "\n",
              "    .dataframe tbody tr th {\n",
              "        vertical-align: top;\n",
              "    }\n",
              "\n",
              "    .dataframe thead th {\n",
              "        text-align: right;\n",
              "    }\n",
              "</style>\n",
              "<table border=\"1\" class=\"dataframe\">\n",
              "  <thead>\n",
              "    <tr style=\"text-align: right;\">\n",
              "      <th></th>\n",
              "      <th>data-item-id</th>\n",
              "      <th>data-conversation-id</th>\n",
              "      <th>username</th>\n",
              "      <th>tweet</th>\n",
              "      <th>avatar</th>\n",
              "      <th>date</th>\n",
              "    </tr>\n",
              "  </thead>\n",
              "  <tbody>\n",
              "    <tr>\n",
              "      <th>1</th>\n",
              "      <td>1300941101839388673</td>\n",
              "      <td>1300941101839388673</td>\n",
              "      <td>@grupoeldeber</td>\n",
              "      <td>sosa se encuentra en la sede de gobierno don...</td>\n",
              "      <td>https://pbs.twimg.com/profile_images/116419476...</td>\n",
              "      <td>2020-09-01</td>\n",
              "    </tr>\n",
              "    <tr>\n",
              "      <th>3</th>\n",
              "      <td>1300925429491077122</td>\n",
              "      <td>1300925429491077122</td>\n",
              "      <td>@grupoeldeber</td>\n",
              "      <td>el ex presidente espera la resolución del tr...</td>\n",
              "      <td>https://pbs.twimg.com/profile_images/116419476...</td>\n",
              "      <td>2020-09-01</td>\n",
              "    </tr>\n",
              "    <tr>\n",
              "      <th>5</th>\n",
              "      <td>1300923969642680321</td>\n",
              "      <td>1300923969642680321</td>\n",
              "      <td>@grupoeldeber</td>\n",
              "      <td>camino democrático del cambio (cdc), del exg...</td>\n",
              "      <td>https://pbs.twimg.com/profile_images/116419476...</td>\n",
              "      <td>2020-09-01</td>\n",
              "    </tr>\n",
              "    <tr>\n",
              "      <th>21</th>\n",
              "      <td>1300941101839388673</td>\n",
              "      <td>1300941101839388673</td>\n",
              "      <td>@grupoeldeber</td>\n",
              "      <td>sosa se encuentra en la sede de gobierno don...</td>\n",
              "      <td>https://pbs.twimg.com/profile_images/116419476...</td>\n",
              "      <td>2020-09-01</td>\n",
              "    </tr>\n",
              "    <tr>\n",
              "      <th>27</th>\n",
              "      <td>1300925429491077122</td>\n",
              "      <td>1300925429491077122</td>\n",
              "      <td>@grupoeldeber</td>\n",
              "      <td>el ex presidente espera la resolución del tr...</td>\n",
              "      <td>https://pbs.twimg.com/profile_images/116419476...</td>\n",
              "      <td>2020-09-01</td>\n",
              "    </tr>\n",
              "  </tbody>\n",
              "</table>\n",
              "</div>"
            ],
            "text/plain": [
              "           data-item-id  ...        date\n",
              "1   1300941101839388673  ...  2020-09-01\n",
              "3   1300925429491077122  ...  2020-09-01\n",
              "5   1300923969642680321  ...  2020-09-01\n",
              "21  1300941101839388673  ...  2020-09-01\n",
              "27  1300925429491077122  ...  2020-09-01\n",
              "\n",
              "[5 rows x 6 columns]"
            ]
          },
          "metadata": {
            "tags": []
          },
          "execution_count": 74
        }
      ]
    },
    {
      "cell_type": "code",
      "metadata": {
        "id": "rgT7fWXwCe9j"
      },
      "source": [
        ""
      ],
      "execution_count": null,
      "outputs": []
    },
    {
      "cell_type": "markdown",
      "metadata": {
        "id": "bCf21Cb8Cf-1"
      },
      "source": [
        "# trabajando con los datos consolidados, filtro elecciones"
      ]
    },
    {
      "cell_type": "markdown",
      "metadata": {
        "id": "ZbGUWSmVDTux"
      },
      "source": [
        "EL DEBER"
      ]
    },
    {
      "cell_type": "code",
      "metadata": {
        "id": "Df07ZORlCm72"
      },
      "source": [
        "list_words = pd.DataFrame({'find_words': ['Carlos Mesa','Mesa','Pedrasa','Luis Arce Catacora','Arce','David Choquehuanca','Choquehuanca','Luis Fernando Camacho','Camacho',\n",
        "'Marco Pumari','Jorge Tuto Quiroga','Tuto','María de la  Cruz Bayá','Bayá','Feliciano Mamani','Feliciano','Chi Hyun Chung','Chi',\n",
        "'Comunidad Ciudadana','CC','Creemos','Libre 21','Movimiento Al Socialismo','MAS','Frente para la Victoria','FPV',\n",
        "'Partido de Acción Nacional Boliviano','PAN-BOL','Acción Democrática Nacional','ADN','Eleccion','Debate','Presidencial',\n",
        "'Candidato','Partido político','Partido','político','Campaña','Electoral','Propuesta','Plan de gobierno','Voto',\n",
        "'Intención de voto','Vicepresidente','President','Gobierno']})\n"
      ],
      "execution_count": 6,
      "outputs": []
    },
    {
      "cell_type": "code",
      "metadata": {
        "id": "3Jza9RJPCm81"
      },
      "source": [
        "list_words['find_words']=list_words['find_words'].str.lower()"
      ],
      "execution_count": 7,
      "outputs": []
    },
    {
      "cell_type": "code",
      "metadata": {
        "id": "hIe3Zj2OCm90"
      },
      "source": [
        "list_words.head()"
      ],
      "execution_count": null,
      "outputs": []
    },
    {
      "cell_type": "code",
      "metadata": {
        "id": "5-LMNc-uCm4k"
      },
      "source": [
        "path = \"/content/drive/My Drive/Hackaton Elecciones/datos compilados/\""
      ],
      "execution_count": null,
      "outputs": []
    },
    {
      "cell_type": "code",
      "metadata": {
        "id": "o152kT1PCm5R"
      },
      "source": [
        "import pandas as pd\n",
        "df_inicial=pd.read_csv(path+'el_deber_consolidado.csv')\n"
      ],
      "execution_count": null,
      "outputs": []
    },
    {
      "cell_type": "code",
      "metadata": {
        "id": "6fN_N9iLCm6Z"
      },
      "source": [
        "df_inicial.head()"
      ],
      "execution_count": null,
      "outputs": []
    },
    {
      "cell_type": "code",
      "metadata": {
        "id": "AdUstEnjCm7D"
      },
      "source": [
        "df_inicial['tweet']=df_inicial['tweet'].str.lower()"
      ],
      "execution_count": null,
      "outputs": []
    },
    {
      "cell_type": "code",
      "metadata": {
        "id": "Vs-8crJTCm_M"
      },
      "source": [
        "mask = [any(i in words for i in list_words['find_words'].values) \\\n",
        "        for words in df_inicial['tweet'].str.split().values]\n",
        "\n",
        "print(df_inicial[mask])\n",
        "df_eleccion=df_inicial[mask]"
      ],
      "execution_count": null,
      "outputs": []
    },
    {
      "cell_type": "code",
      "metadata": {
        "id": "GkDFQ6d6Cm_4"
      },
      "source": [
        "df_eleccion.head()"
      ],
      "execution_count": null,
      "outputs": []
    },
    {
      "cell_type": "code",
      "metadata": {
        "id": "qjtpIqMWrFp4"
      },
      "source": [
        "df_eleccion.to_csv('el_deber_elecciones.csv',encoding='utf-8-sig', index=False)"
      ],
      "execution_count": null,
      "outputs": []
    },
    {
      "cell_type": "code",
      "metadata": {
        "id": "OgG6ytoArICq"
      },
      "source": [
        "df_eleccion.to_excel('el_deber_elecciones.xlsx',encoding='utf-8-sig', index = False, header=True)"
      ],
      "execution_count": null,
      "outputs": []
    },
    {
      "cell_type": "markdown",
      "metadata": {
        "id": "stbjEKtIEnxu"
      },
      "source": [
        "LA RAZON"
      ]
    },
    {
      "cell_type": "code",
      "metadata": {
        "id": "SWlVyCUIEoNz"
      },
      "source": [
        "import pandas as pd\n",
        "df_inicial=pd.read_csv(path+'la_razon_consolidado.csv')\n"
      ],
      "execution_count": null,
      "outputs": []
    },
    {
      "cell_type": "code",
      "metadata": {
        "id": "8LAsKydAEoOI"
      },
      "source": [
        "df_inicial.head()"
      ],
      "execution_count": null,
      "outputs": []
    },
    {
      "cell_type": "code",
      "metadata": {
        "id": "TdoGFmCoEoOb"
      },
      "source": [
        "df_inicial['tweet']=df_inicial['tweet'].str.lower()"
      ],
      "execution_count": null,
      "outputs": []
    },
    {
      "cell_type": "code",
      "metadata": {
        "id": "trnegMviEoOq"
      },
      "source": [
        "mask = [any(i in words for i in list_words['find_words'].values) \\\n",
        "        for words in df_inicial['tweet'].str.split().values]\n",
        "\n",
        "print(df_inicial[mask])\n",
        "df_eleccion=df_inicial[mask]"
      ],
      "execution_count": null,
      "outputs": []
    },
    {
      "cell_type": "code",
      "metadata": {
        "id": "3W72r7SCEoO2"
      },
      "source": [
        "df_eleccion.head()"
      ],
      "execution_count": null,
      "outputs": []
    },
    {
      "cell_type": "code",
      "metadata": {
        "id": "47hvA8v6EoPD"
      },
      "source": [
        "df_eleccion.to_csv('la_razon_elecciones.csv',encoding='utf-8-sig', index=False)"
      ],
      "execution_count": null,
      "outputs": []
    },
    {
      "cell_type": "code",
      "metadata": {
        "id": "6GYBK_o7EoPP"
      },
      "source": [
        "df_eleccion.to_excel('la_razon_elecciones.xlsx',encoding='utf-8-sig', index = False, header=True)"
      ],
      "execution_count": null,
      "outputs": []
    },
    {
      "cell_type": "markdown",
      "metadata": {
        "id": "T4tz3QkK49ru"
      },
      "source": [
        "# FILTRO PERSONAJES"
      ]
    },
    {
      "cell_type": "code",
      "metadata": {
        "id": "tKvNPMC07zev"
      },
      "source": [
        "list_mas = pd.DataFrame({'find_words': ['Movimiento Al Socialismo','MAS','Luis Arce Catacora','Arce','David Choquehuanca','Choquehuanca','Evo  Morales','Morales','Evo',\n",
        "'Eva Copa','Andrónico Rodríguez','Andrónico','Leonardo Loza','Loza','Sergio Choque','Choque']})\n",
        "list_cc  = pd.DataFrame({'find_words': ['Comunidad Ciudadana','CC','Carlos Diego Mesa de Gisberth','Mesa','Gustavo Pedraza Merida',\n",
        "'Ricardo Paz Ballivian','Rodrigo Paz Pereira']})\n",
        "list_creemos = pd.DataFrame({'find_words': ['CREEMOS','Luis Fernando Camacho Vaca','Camacho','Marco Pumari','Pumari','Walter Chavez','Roxana Lizarraga']})\n",
        "list_fpv = pd.DataFrame({'find_words': ['Frente Para la Victoria','FPV','Chi Hyun Chung','Chi','Salvador Emilio Pinto Marín']})\n",
        "list_libre = pd.DataFrame({'find_words': ['Libertad y Democracía','Libre21','Jorge Fernando Quiroga Ramirez,','Tuto','Toamsa Yarhui Jacome]})\n",
        "list_panbol = pd.DataFrame({'find_words': ['Partido de Acción Nacional Boliviano','PAN-BOL','Feliciano Mamani Ninavia','Feliciano','Ruth Yolanda Nina']})\n",
        "list_mas = pd.DataFrame({'find_words': ['']})\n"
      ],
      "execution_count": null,
      "outputs": []
    },
    {
      "cell_type": "code",
      "metadata": {
        "id": "-bB-orKa7zfK"
      },
      "source": [
        "#list_mas['find_words']=list_mas['find_words'].str.lower()"
      ],
      "execution_count": null,
      "outputs": []
    },
    {
      "cell_type": "code",
      "metadata": {
        "id": "7w2A1ER17zfb",
        "outputId": "d1153dcd-0a74-4181-c70a-1c1fdb169778",
        "colab": {
          "base_uri": "https://localhost:8080/",
          "height": 206
        }
      },
      "source": [
        "list_mas.head()"
      ],
      "execution_count": null,
      "outputs": [
        {
          "output_type": "execute_result",
          "data": {
            "text/html": [
              "<div>\n",
              "<style scoped>\n",
              "    .dataframe tbody tr th:only-of-type {\n",
              "        vertical-align: middle;\n",
              "    }\n",
              "\n",
              "    .dataframe tbody tr th {\n",
              "        vertical-align: top;\n",
              "    }\n",
              "\n",
              "    .dataframe thead th {\n",
              "        text-align: right;\n",
              "    }\n",
              "</style>\n",
              "<table border=\"1\" class=\"dataframe\">\n",
              "  <thead>\n",
              "    <tr style=\"text-align: right;\">\n",
              "      <th></th>\n",
              "      <th>find_words</th>\n",
              "    </tr>\n",
              "  </thead>\n",
              "  <tbody>\n",
              "    <tr>\n",
              "      <th>0</th>\n",
              "      <td>Movimiento Al Socialismo</td>\n",
              "    </tr>\n",
              "    <tr>\n",
              "      <th>1</th>\n",
              "      <td>MAS</td>\n",
              "    </tr>\n",
              "    <tr>\n",
              "      <th>2</th>\n",
              "      <td>Luis Arce Catacora</td>\n",
              "    </tr>\n",
              "    <tr>\n",
              "      <th>3</th>\n",
              "      <td>Arce</td>\n",
              "    </tr>\n",
              "    <tr>\n",
              "      <th>4</th>\n",
              "      <td>David Choquehuanca</td>\n",
              "    </tr>\n",
              "  </tbody>\n",
              "</table>\n",
              "</div>"
            ],
            "text/plain": [
              "                 find_words\n",
              "0  Movimiento Al Socialismo\n",
              "1                       MAS\n",
              "2        Luis Arce Catacora\n",
              "3                      Arce\n",
              "4        David Choquehuanca"
            ]
          },
          "metadata": {
            "tags": []
          },
          "execution_count": 22
        }
      ]
    },
    {
      "cell_type": "markdown",
      "metadata": {
        "id": "gGjoxmRK71WA"
      },
      "source": [
        "EL DEBER"
      ]
    },
    {
      "cell_type": "code",
      "metadata": {
        "id": "8HCdPAcp7zfq"
      },
      "source": [
        "path = \"/content/drive/My Drive/Hackaton Elecciones/datos compilados/\""
      ],
      "execution_count": null,
      "outputs": []
    },
    {
      "cell_type": "code",
      "metadata": {
        "id": "AxCfJAsE7zf1"
      },
      "source": [
        "import pandas as pd\n",
        "df_inicial=pd.read_csv(path+'el_deber_consolidado.csv')\n"
      ],
      "execution_count": null,
      "outputs": []
    },
    {
      "cell_type": "code",
      "metadata": {
        "id": "DRFjgoQL7zgC",
        "outputId": "288ebc47-ab3d-4aaf-c6cb-90264648ae2c",
        "colab": {
          "base_uri": "https://localhost:8080/",
          "height": 206
        }
      },
      "source": [
        "df_inicial.head()"
      ],
      "execution_count": null,
      "outputs": [
        {
          "output_type": "execute_result",
          "data": {
            "text/html": [
              "<div>\n",
              "<style scoped>\n",
              "    .dataframe tbody tr th:only-of-type {\n",
              "        vertical-align: middle;\n",
              "    }\n",
              "\n",
              "    .dataframe tbody tr th {\n",
              "        vertical-align: top;\n",
              "    }\n",
              "\n",
              "    .dataframe thead th {\n",
              "        text-align: right;\n",
              "    }\n",
              "</style>\n",
              "<table border=\"1\" class=\"dataframe\">\n",
              "  <thead>\n",
              "    <tr style=\"text-align: right;\">\n",
              "      <th></th>\n",
              "      <th>data-item-id</th>\n",
              "      <th>username</th>\n",
              "      <th>tweet</th>\n",
              "      <th>date</th>\n",
              "    </tr>\n",
              "  </thead>\n",
              "  <tbody>\n",
              "    <tr>\n",
              "      <th>0</th>\n",
              "      <td>1312035188923301891</td>\n",
              "      <td>@grupoeldeber</td>\n",
              "      <td>El especialista evaluará la zona para propon...</td>\n",
              "      <td>2020-10-02</td>\n",
              "    </tr>\n",
              "    <tr>\n",
              "      <th>1</th>\n",
              "      <td>1312064719696601088</td>\n",
              "      <td>@grupoeldeber</td>\n",
              "      <td>La tercera ciudad de Argentina, ubicada sobr...</td>\n",
              "      <td>2020-10-02</td>\n",
              "    </tr>\n",
              "    <tr>\n",
              "      <th>2</th>\n",
              "      <td>1312065879157374979</td>\n",
              "      <td>@grupoeldeber</td>\n",
              "      <td>Los empresarios de esta industria informan q...</td>\n",
              "      <td>2020-10-02</td>\n",
              "    </tr>\n",
              "    <tr>\n",
              "      <th>3</th>\n",
              "      <td>1312066077921349633</td>\n",
              "      <td>@grupoeldeber</td>\n",
              "      <td>El Ministerio Público dirige un operativo de...</td>\n",
              "      <td>2020-10-02</td>\n",
              "    </tr>\n",
              "    <tr>\n",
              "      <th>4</th>\n",
              "      <td>1312024628693479424</td>\n",
              "      <td>@grupoeldeber</td>\n",
              "      <td>Los ataúdes y bolsas que recibirán las insti...</td>\n",
              "      <td>2020-10-02</td>\n",
              "    </tr>\n",
              "  </tbody>\n",
              "</table>\n",
              "</div>"
            ],
            "text/plain": [
              "          data-item-id  ...        date\n",
              "0  1312035188923301891  ...  2020-10-02\n",
              "1  1312064719696601088  ...  2020-10-02\n",
              "2  1312065879157374979  ...  2020-10-02\n",
              "3  1312066077921349633  ...  2020-10-02\n",
              "4  1312024628693479424  ...  2020-10-02\n",
              "\n",
              "[5 rows x 4 columns]"
            ]
          },
          "metadata": {
            "tags": []
          },
          "execution_count": 25
        }
      ]
    },
    {
      "cell_type": "code",
      "metadata": {
        "id": "0olvNOq97zgM"
      },
      "source": [
        "#df_inicial['tweet']=df_inicial['tweet'].str.lower()"
      ],
      "execution_count": null,
      "outputs": []
    },
    {
      "cell_type": "code",
      "metadata": {
        "id": "E5yriIOn7zgX",
        "outputId": "c9fa5c62-39d3-4c4d-e788-fca6f819d488",
        "colab": {
          "base_uri": "https://localhost:8080/",
          "height": 279
        }
      },
      "source": [
        "mask = [any(i in words for i in list_mas['find_words'].values) \\\n",
        "        for words in df_inicial['tweet'].str.split().values]\n",
        "\n",
        "print(df_inicial[mask])\n",
        "df_eleccion=df_inicial[mask][:]"
      ],
      "execution_count": null,
      "outputs": [
        {
          "output_type": "stream",
          "text": [
            "             data-item-id  ...        date\n",
            "55    1312209891071725568  ...  2020-10-02\n",
            "105   1312813326980837377  ...  2020-10-04\n",
            "112   1313095374748483588  ...  2020-10-05\n",
            "151   1313495580199530502  ...  2020-10-06\n",
            "160   1313471459684163590  ...  2020-10-06\n",
            "...                   ...  ...         ...\n",
            "1113  1302020980005646336  ...  2020-09-04\n",
            "1123  1302024721282801666  ...  2020-09-04\n",
            "1129  1302001763982159873  ...  2020-09-04\n",
            "1135  1301600487658131456  ...  2020-09-03\n",
            "1141  1301582602063802368  ...  2020-09-03\n",
            "\n",
            "[62 rows x 4 columns]\n"
          ],
          "name": "stdout"
        }
      ]
    },
    {
      "cell_type": "code",
      "metadata": {
        "id": "2V1Z0dk37zgf",
        "outputId": "267eb859-c194-4c52-8a22-63c72cfd809a",
        "colab": {
          "base_uri": "https://localhost:8080/",
          "height": 206
        }
      },
      "source": [
        "df_eleccion.head()"
      ],
      "execution_count": null,
      "outputs": [
        {
          "output_type": "execute_result",
          "data": {
            "text/html": [
              "<div>\n",
              "<style scoped>\n",
              "    .dataframe tbody tr th:only-of-type {\n",
              "        vertical-align: middle;\n",
              "    }\n",
              "\n",
              "    .dataframe tbody tr th {\n",
              "        vertical-align: top;\n",
              "    }\n",
              "\n",
              "    .dataframe thead th {\n",
              "        text-align: right;\n",
              "    }\n",
              "</style>\n",
              "<table border=\"1\" class=\"dataframe\">\n",
              "  <thead>\n",
              "    <tr style=\"text-align: right;\">\n",
              "      <th></th>\n",
              "      <th>data-item-id</th>\n",
              "      <th>username</th>\n",
              "      <th>tweet</th>\n",
              "      <th>date</th>\n",
              "    </tr>\n",
              "  </thead>\n",
              "  <tbody>\n",
              "    <tr>\n",
              "      <th>55</th>\n",
              "      <td>1312209891071725568</td>\n",
              "      <td>@grupoeldeber</td>\n",
              "      <td>La unidad que plantean los partidos para enf...</td>\n",
              "      <td>2020-10-02</td>\n",
              "    </tr>\n",
              "    <tr>\n",
              "      <th>105</th>\n",
              "      <td>1312813326980837377</td>\n",
              "      <td>@grupoeldeber</td>\n",
              "      <td>Apertura. Con ellos serán tres los ausentes,...</td>\n",
              "      <td>2020-10-04</td>\n",
              "    </tr>\n",
              "    <tr>\n",
              "      <th>112</th>\n",
              "      <td>1313095374748483588</td>\n",
              "      <td>@grupoeldeber</td>\n",
              "      <td>Las más leídas. El candidato del MAS sostuvo...</td>\n",
              "      <td>2020-10-05</td>\n",
              "    </tr>\n",
              "    <tr>\n",
              "      <th>151</th>\n",
              "      <td>1313495580199530502</td>\n",
              "      <td>@grupoeldeber</td>\n",
              "      <td>A su ingreso a Palacio Quemado, la máxima au...</td>\n",
              "      <td>2020-10-06</td>\n",
              "    </tr>\n",
              "    <tr>\n",
              "      <th>160</th>\n",
              "      <td>1313471459684163590</td>\n",
              "      <td>@grupoeldeber</td>\n",
              "      <td>El exlíder cívico cruceño no asistió el domi...</td>\n",
              "      <td>2020-10-06</td>\n",
              "    </tr>\n",
              "  </tbody>\n",
              "</table>\n",
              "</div>"
            ],
            "text/plain": [
              "            data-item-id  ...        date\n",
              "55   1312209891071725568  ...  2020-10-02\n",
              "105  1312813326980837377  ...  2020-10-04\n",
              "112  1313095374748483588  ...  2020-10-05\n",
              "151  1313495580199530502  ...  2020-10-06\n",
              "160  1313471459684163590  ...  2020-10-06\n",
              "\n",
              "[5 rows x 4 columns]"
            ]
          },
          "metadata": {
            "tags": []
          },
          "execution_count": 31
        }
      ]
    },
    {
      "cell_type": "code",
      "metadata": {
        "id": "315f0RTt9rAM",
        "outputId": "c8d5fc67-80ae-4a16-cedd-c9838a599b8b",
        "colab": {
          "base_uri": "https://localhost:8080/",
          "height": 206
        }
      },
      "source": [
        "df_eleccion['partido']='MAS'\n",
        "df_eleccion.head()"
      ],
      "execution_count": null,
      "outputs": [
        {
          "output_type": "execute_result",
          "data": {
            "text/html": [
              "<div>\n",
              "<style scoped>\n",
              "    .dataframe tbody tr th:only-of-type {\n",
              "        vertical-align: middle;\n",
              "    }\n",
              "\n",
              "    .dataframe tbody tr th {\n",
              "        vertical-align: top;\n",
              "    }\n",
              "\n",
              "    .dataframe thead th {\n",
              "        text-align: right;\n",
              "    }\n",
              "</style>\n",
              "<table border=\"1\" class=\"dataframe\">\n",
              "  <thead>\n",
              "    <tr style=\"text-align: right;\">\n",
              "      <th></th>\n",
              "      <th>data-item-id</th>\n",
              "      <th>username</th>\n",
              "      <th>tweet</th>\n",
              "      <th>date</th>\n",
              "      <th>partido</th>\n",
              "    </tr>\n",
              "  </thead>\n",
              "  <tbody>\n",
              "    <tr>\n",
              "      <th>55</th>\n",
              "      <td>1312209891071725568</td>\n",
              "      <td>@grupoeldeber</td>\n",
              "      <td>La unidad que plantean los partidos para enf...</td>\n",
              "      <td>2020-10-02</td>\n",
              "      <td>MAS</td>\n",
              "    </tr>\n",
              "    <tr>\n",
              "      <th>105</th>\n",
              "      <td>1312813326980837377</td>\n",
              "      <td>@grupoeldeber</td>\n",
              "      <td>Apertura. Con ellos serán tres los ausentes,...</td>\n",
              "      <td>2020-10-04</td>\n",
              "      <td>MAS</td>\n",
              "    </tr>\n",
              "    <tr>\n",
              "      <th>112</th>\n",
              "      <td>1313095374748483588</td>\n",
              "      <td>@grupoeldeber</td>\n",
              "      <td>Las más leídas. El candidato del MAS sostuvo...</td>\n",
              "      <td>2020-10-05</td>\n",
              "      <td>MAS</td>\n",
              "    </tr>\n",
              "    <tr>\n",
              "      <th>151</th>\n",
              "      <td>1313495580199530502</td>\n",
              "      <td>@grupoeldeber</td>\n",
              "      <td>A su ingreso a Palacio Quemado, la máxima au...</td>\n",
              "      <td>2020-10-06</td>\n",
              "      <td>MAS</td>\n",
              "    </tr>\n",
              "    <tr>\n",
              "      <th>160</th>\n",
              "      <td>1313471459684163590</td>\n",
              "      <td>@grupoeldeber</td>\n",
              "      <td>El exlíder cívico cruceño no asistió el domi...</td>\n",
              "      <td>2020-10-06</td>\n",
              "      <td>MAS</td>\n",
              "    </tr>\n",
              "  </tbody>\n",
              "</table>\n",
              "</div>"
            ],
            "text/plain": [
              "            data-item-id       username  ...        date partido\n",
              "55   1312209891071725568  @grupoeldeber  ...  2020-10-02     MAS\n",
              "105  1312813326980837377  @grupoeldeber  ...  2020-10-04     MAS\n",
              "112  1313095374748483588  @grupoeldeber  ...  2020-10-05     MAS\n",
              "151  1313495580199530502  @grupoeldeber  ...  2020-10-06     MAS\n",
              "160  1313471459684163590  @grupoeldeber  ...  2020-10-06     MAS\n",
              "\n",
              "[5 rows x 5 columns]"
            ]
          },
          "metadata": {
            "tags": []
          },
          "execution_count": 32
        }
      ]
    },
    {
      "cell_type": "code",
      "metadata": {
        "id": "MprQ2opv7zgn"
      },
      "source": [
        "df_eleccion.to_csv('el_deber_partido_mas.csv',encoding='utf-8-sig', index=False)"
      ],
      "execution_count": null,
      "outputs": []
    },
    {
      "cell_type": "code",
      "metadata": {
        "id": "SLGm-4pu7zgu"
      },
      "source": [
        "df_eleccion.to_excel('el_deber_partido_mas.xlsx',encoding='utf-8-sig', index = False, header=True)"
      ],
      "execution_count": null,
      "outputs": []
    },
    {
      "cell_type": "code",
      "metadata": {
        "id": "WA3INBZU7M41"
      },
      "source": [
        ""
      ],
      "execution_count": null,
      "outputs": []
    },
    {
      "cell_type": "markdown",
      "metadata": {
        "id": "as9XJOiZBgY5"
      },
      "source": [
        "LISTA GENERAL DE PALABRAS CLAVE PARTIDOS"
      ]
    },
    {
      "cell_type": "code",
      "metadata": {
        "id": "FTHi8cfnBcsz"
      },
      "source": [
        "list_mas = pd.DataFrame({'find_words': ['Movimiento Al Socialismo','MAS','Luis Arce Catacora','Arce','David Choquehuanca','Choquehuanca','Evo  Morales','Morales','Evo',\n",
        "'Eva Copa','Andrónico Rodríguez','Andrónico','Leonardo Loza','Loza','Sergio Choque','Choque']})\n",
        "list_cc  = pd.DataFrame({'find_words': ['Comunidad Ciudadana','CC','Carlos Diego Mesa de Gisberth','Mesa','Gustavo Pedraza Merida',\n",
        "'Ricardo Paz Ballivian','Rodrigo Paz Pereira']})\n",
        "list_creemos = pd.DataFrame({'find_words': ['CREEMOS','Luis Fernando Camacho Vaca','Camacho','Marco Pumari','Pumari','Walter Chavez','Roxana Lizarraga']})\n",
        "list_fpv = pd.DataFrame({'find_words': ['Frente Para la Victoria','FPV','Chi Hyun Chung','Chi','Salvador Emilio Pinto Marín']})\n",
        "list_libre = pd.DataFrame({'find_words': ['Libertad y Democracía','Libre21','Jorge Fernando Quiroga Ramirez,','Tuto','Toamsa Yarhui Jacome']})\n",
        "list_panbol = pd.DataFrame({'find_words': ['Partido de Acción Nacional Boliviano','PAN-BOL','Feliciano Mamani Ninavia','Feliciano','Ruth Yolanda Nina']})\n",
        "#list_extra = pd.DataFrame({'find_words': ['']})\n"
      ],
      "execution_count": null,
      "outputs": []
    },
    {
      "cell_type": "markdown",
      "metadata": {
        "id": "T4uQGaBEBY6k"
      },
      "source": [
        "COMENZANDO EL DEBER DE NUEVO POR PARTIDO"
      ]
    },
    {
      "cell_type": "code",
      "metadata": {
        "id": "2JpUfUUkBctJ"
      },
      "source": [
        "path = \"/content/drive/My Drive/Hackaton Elecciones/datos compilados/\""
      ],
      "execution_count": null,
      "outputs": []
    },
    {
      "cell_type": "code",
      "metadata": {
        "id": "Km0RzCWyBctb"
      },
      "source": [
        "import pandas as pd\n",
        "df_inicial=pd.read_csv(path+'el_deber_consolidado.csv')"
      ],
      "execution_count": null,
      "outputs": []
    },
    {
      "cell_type": "code",
      "metadata": {
        "id": "R9aaXVC9Bct5"
      },
      "source": [
        "partido='MAS'\n",
        "mask = [any(i in words for i in list_mas['find_words'].values) \\\n",
        "        for words in df_inicial['tweet'].str.split().values]\n",
        "df_mas=df_inicial[mask][:]\n",
        "df_mas['partido']=partido\n",
        "df_mas.to_csv('el_deber_partido_'+partido+'.csv',encoding='utf-8-sig', index=False)\n",
        "df_mas.to_excel('el_deber_'+partido+'.xlsx',encoding='utf-8-sig', index = False, header=True)"
      ],
      "execution_count": null,
      "outputs": []
    },
    {
      "cell_type": "code",
      "metadata": {
        "id": "gdq3qs5hCJg-"
      },
      "source": [
        "partido='CC'\n",
        "mask = [any(i in words for i in list_cc['find_words'].values) \\\n",
        "        for words in df_inicial['tweet'].str.split().values]\n",
        "df_cc=df_inicial[mask][:]\n",
        "df_cc['partido']=partido\n",
        "df_cc.to_csv('el_deber_partido_'+partido+'.csv',encoding='utf-8-sig', index=False)\n",
        "df_cc.to_excel('el_deber_'+partido+'.xlsx',encoding='utf-8-sig', index = False, header=True)"
      ],
      "execution_count": null,
      "outputs": []
    },
    {
      "cell_type": "code",
      "metadata": {
        "id": "Xb1hA9WtCIQ-"
      },
      "source": [
        "partido='CREEMOS'\n",
        "mask = [any(i in words for i in list_creemos['find_words'].values) \\\n",
        "        for words in df_inicial['tweet'].str.split().values]\n",
        "df_creemos=df_inicial[mask][:]\n",
        "df_creemos['partido']=partido\n",
        "df_creemos.to_csv('el_deber_partido_'+partido+'.csv',encoding='utf-8-sig', index=False)\n",
        "df_creemos.to_excel('el_deber_'+partido+'.xlsx',encoding='utf-8-sig', index = False, header=True)"
      ],
      "execution_count": null,
      "outputs": []
    },
    {
      "cell_type": "code",
      "metadata": {
        "id": "FUIRocWjCHyW"
      },
      "source": [
        "partido='FPV'\n",
        "mask = [any(i in words for i in list_fpv['find_words'].values) \\\n",
        "        for words in df_inicial['tweet'].str.split().values]\n",
        "df_fpv=df_inicial[mask][:]\n",
        "df_fpv['partido']=partido\n",
        "df_fpv.to_csv('el_deber_partido_'+partido+'.csv',encoding='utf-8-sig', index=False)\n",
        "df_fpv.to_excel('el_deber_'+partido+'.xlsx',encoding='utf-8-sig', index = False, header=True)"
      ],
      "execution_count": null,
      "outputs": []
    },
    {
      "cell_type": "code",
      "metadata": {
        "id": "nOu7SLWLCHaq"
      },
      "source": [
        "partido='Libre21'\n",
        "mask = [any(i in words for i in list_libre['find_words'].values) \\\n",
        "        for words in df_inicial['tweet'].str.split().values]\n",
        "df_libre=df_inicial[mask][:]\n",
        "df_libre['partido']=partido\n",
        "df_libre.to_csv('el_deber_partido_'+partido+'.csv',encoding='utf-8-sig', index=False)\n",
        "df_libre.to_excel('el_deber_'+partido+'.xlsx',encoding='utf-8-sig', index = False, header=True)"
      ],
      "execution_count": null,
      "outputs": []
    },
    {
      "cell_type": "code",
      "metadata": {
        "id": "I2uPbWVfCG8M"
      },
      "source": [
        "partido='PAN-BOL'\n",
        "mask = [any(i in words for i in list_panbol['find_words'].values) \\\n",
        "        for words in df_inicial['tweet'].str.split().values]\n",
        "df_panbol=df_inicial[mask][:]\n",
        "df_panbol['partido']=partido\n",
        "df_panbol.to_csv('el_deber_partido_'+partido+'.csv',encoding='utf-8-sig', index=False)\n",
        "df_panbol.to_excel('el_deber_'+partido+'.xlsx',encoding='utf-8-sig', index = False, header=True)"
      ],
      "execution_count": null,
      "outputs": []
    },
    {
      "cell_type": "code",
      "metadata": {
        "id": "rNGQZ6fqB_uM"
      },
      "source": [
        ""
      ],
      "execution_count": null,
      "outputs": []
    },
    {
      "cell_type": "code",
      "metadata": {
        "id": "lju2ttlb7M_6"
      },
      "source": [
        ""
      ],
      "execution_count": null,
      "outputs": []
    },
    {
      "cell_type": "markdown",
      "metadata": {
        "id": "s3WMzFOWGHjH"
      },
      "source": [
        "LA RAZON"
      ]
    },
    {
      "cell_type": "code",
      "metadata": {
        "id": "h0FPLUwGGGm5"
      },
      "source": [
        "import pandas as pd\n",
        "df_inicial=pd.read_csv(path+'la_razon_consolidado.csv')"
      ],
      "execution_count": null,
      "outputs": []
    },
    {
      "cell_type": "code",
      "metadata": {
        "id": "yrOPBai_GGna"
      },
      "source": [
        "partido='MAS'\n",
        "mask = [any(i in words for i in list_mas['find_words'].values) \\\n",
        "        for words in df_inicial['tweet'].str.split().values]\n",
        "df_mas=df_inicial[mask][:]\n",
        "df_mas['partido']=partido\n",
        "df_mas.to_csv('la_razon_partido_'+partido+'.csv',encoding='utf-8-sig', index=False)\n",
        "df_mas.to_excel('la_razon_'+partido+'.xlsx',encoding='utf-8-sig', index = False, header=True)"
      ],
      "execution_count": null,
      "outputs": []
    },
    {
      "cell_type": "code",
      "metadata": {
        "id": "DHhSCmNOGGnz"
      },
      "source": [
        "partido='CC'\n",
        "mask = [any(i in words for i in list_cc['find_words'].values) \\\n",
        "        for words in df_inicial['tweet'].str.split().values]\n",
        "df_cc=df_inicial[mask][:]\n",
        "df_cc['partido']=partido\n",
        "df_cc.to_csv('la_razon_partido_'+partido+'.csv',encoding='utf-8-sig', index=False)\n",
        "df_cc.to_excel('la_razon_'+partido+'.xlsx',encoding='utf-8-sig', index = False, header=True)"
      ],
      "execution_count": null,
      "outputs": []
    },
    {
      "cell_type": "code",
      "metadata": {
        "id": "KkOKVC7HGGoE"
      },
      "source": [
        "partido='CREEMOS'\n",
        "mask = [any(i in words for i in list_creemos['find_words'].values) \\\n",
        "        for words in df_inicial['tweet'].str.split().values]\n",
        "df_creemos=df_inicial[mask][:]\n",
        "df_creemos['partido']=partido\n",
        "df_creemos.to_csv('la_razon_partido_'+partido+'.csv',encoding='utf-8-sig', index=False)\n",
        "df_creemos.to_excel('la_razon_'+partido+'.xlsx',encoding='utf-8-sig', index = False, header=True)"
      ],
      "execution_count": null,
      "outputs": []
    },
    {
      "cell_type": "code",
      "metadata": {
        "id": "ybiA0vCjGGoV"
      },
      "source": [
        "partido='FPV'\n",
        "mask = [any(i in words for i in list_fpv['find_words'].values) \\\n",
        "        for words in df_inicial['tweet'].str.split().values]\n",
        "df_fpv=df_inicial[mask][:]\n",
        "df_fpv['partido']=partido\n",
        "df_fpv.to_csv('la_razon_partido_'+partido+'.csv',encoding='utf-8-sig', index=False)\n",
        "df_fpv.to_excel('la_razon_'+partido+'.xlsx',encoding='utf-8-sig', index = False, header=True)"
      ],
      "execution_count": null,
      "outputs": []
    },
    {
      "cell_type": "code",
      "metadata": {
        "id": "AxL38UdoGGon"
      },
      "source": [
        "partido='Libre21'\n",
        "mask = [any(i in words for i in list_libre['find_words'].values) \\\n",
        "        for words in df_inicial['tweet'].str.split().values]\n",
        "df_libre=df_inicial[mask][:]\n",
        "df_libre['partido']=partido\n",
        "df_libre.to_csv('la_razon_partido_'+partido+'.csv',encoding='utf-8-sig', index=False)\n",
        "df_libre.to_excel('la_razon_'+partido+'.xlsx',encoding='utf-8-sig', index = False, header=True)"
      ],
      "execution_count": null,
      "outputs": []
    },
    {
      "cell_type": "code",
      "metadata": {
        "id": "hs9CpdqFGGo1"
      },
      "source": [
        "partido='PAN-BOL'\n",
        "mask = [any(i in words for i in list_panbol['find_words'].values) \\\n",
        "        for words in df_inicial['tweet'].str.split().values]\n",
        "df_panbol=df_inicial[mask][:]\n",
        "df_panbol['partido']=partido\n",
        "df_panbol.to_csv('la_razon_partido_'+partido+'.csv',encoding='utf-8-sig', index=False)\n",
        "df_panbol.to_excel('la_razon_'+partido+'.xlsx',encoding='utf-8-sig', index = False, header=True)"
      ],
      "execution_count": null,
      "outputs": []
    },
    {
      "cell_type": "markdown",
      "metadata": {
        "id": "cpmbToJUNCJS"
      },
      "source": [
        "union de archivos de partidos"
      ]
    },
    {
      "cell_type": "code",
      "metadata": {
        "id": "MJIZYthHq10P",
        "outputId": "f49e3b07-ed6e-4136-fab3-58ee47b6ceaa",
        "colab": {
          "base_uri": "https://localhost:8080/",
          "height": 166
        }
      },
      "source": [
        "def get_merged_csv(flist, **kwargs):\n",
        "    return pd.concat([pd.read_csv(f, **kwargs) for f in flist], ignore_index=True)\n",
        "\n",
        "path = \"/content/drive/My Drive/Hackaton Elecciones/datos compilados/laRazon\"\n",
        "fmask = os.path.join(path, '*.csv')\n",
        "\n",
        "df_razon = get_merged_csv(glob.glob(fmask), index_col=None, usecols=['date','tweet','data-item-id','username'])\n",
        "\n",
        "print(df_razon.head())"
      ],
      "execution_count": null,
      "outputs": [
        {
          "output_type": "stream",
          "text": [
            "          data-item-id  ...        date\n",
            "0  1314264732040409089  ...  2020-10-08\n",
            "1  1314246652656582660  ...  2020-10-08\n",
            "2  1314207483884261377  ...  2020-10-08\n",
            "3  1314022369288024064  ...  2020-10-07\n",
            "4  1314046779554508801  ...  2020-10-07\n",
            "\n",
            "[5 rows x 4 columns]\n"
          ],
          "name": "stdout"
        }
      ]
    },
    {
      "cell_type": "code",
      "metadata": {
        "id": "TKPM0Gglq91N",
        "outputId": "b5570afc-3f88-4bbf-a867-5badd60e2900",
        "colab": {
          "base_uri": "https://localhost:8080/",
          "height": 36
        }
      },
      "source": [
        "df_razon.shape"
      ],
      "execution_count": null,
      "outputs": [
        {
          "output_type": "execute_result",
          "data": {
            "text/plain": [
              "(19701, 4)"
            ]
          },
          "metadata": {
            "tags": []
          },
          "execution_count": 27
        }
      ]
    },
    {
      "cell_type": "code",
      "metadata": {
        "id": "e7wQMdLjrCV2"
      },
      "source": [
        "# Remove Duplicate rows\n",
        "df_razon.drop_duplicates(subset=None, inplace=True)"
      ],
      "execution_count": null,
      "outputs": []
    },
    {
      "cell_type": "code",
      "metadata": {
        "id": "Rd6FBSgfNTfA"
      },
      "source": [
        "df_razon.to_csv('la_razon_consolidado.csv',encoding='utf-8-sig', index=False)"
      ],
      "execution_count": null,
      "outputs": []
    },
    {
      "cell_type": "code",
      "metadata": {
        "id": "YapCXBSJNTfP"
      },
      "source": [
        "df_razon.to_excel('la_razon_consolidado.xlsx',encoding='utf-8-sig', index = False, header=True)"
      ],
      "execution_count": null,
      "outputs": []
    },
    {
      "cell_type": "code",
      "metadata": {
        "id": "rsbZGPBh7NMy"
      },
      "source": [
        ""
      ],
      "execution_count": null,
      "outputs": []
    },
    {
      "cell_type": "code",
      "metadata": {
        "id": "fxsXZiGi7NQX"
      },
      "source": [
        ""
      ],
      "execution_count": null,
      "outputs": []
    },
    {
      "cell_type": "code",
      "metadata": {
        "id": "sgPuFPzb7NHg"
      },
      "source": [
        ""
      ],
      "execution_count": null,
      "outputs": []
    }
  ]
}