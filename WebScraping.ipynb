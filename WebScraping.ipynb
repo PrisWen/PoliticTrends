{
  "nbformat": 4,
  "nbformat_minor": 0,
  "metadata": {
    "colab": {
      "name": "WebScraping.ipynb",
      "provenance": [],
      "collapsed_sections": []
    },
    "kernelspec": {
      "name": "python3",
      "display_name": "Python 3"
    }
  },
  "cells": [
    {
      "cell_type": "markdown",
      "metadata": {
        "id": "32qpNVQflU7e"
      },
      "source": [
        "# Web scraping de Tweets"
      ]
    },
    {
      "cell_type": "code",
      "metadata": {
        "id": "VpkTMH1DQ88b",
        "outputId": "6cd8e7b0-7638-4352-efd9-86b4fedca461",
        "colab": {
          "base_uri": "https://localhost:8080/",
          "height": 952
        }
      },
      "source": [
        "!pip install --upgrade git+https://github.com/yunusemrecatalcam/twint.git@twitter_legacy2"
      ],
      "execution_count": null,
      "outputs": [
        {
          "output_type": "stream",
          "text": [
            "Collecting git+https://github.com/yunusemrecatalcam/twint.git@twitter_legacy2\n",
            "  Cloning https://github.com/yunusemrecatalcam/twint.git (to revision twitter_legacy2) to /tmp/pip-req-build-prta2vau\n",
            "  Running command git clone -q https://github.com/yunusemrecatalcam/twint.git /tmp/pip-req-build-prta2vau\n",
            "  Running command git checkout -b twitter_legacy2 --track origin/twitter_legacy2\n",
            "  Switched to a new branch 'twitter_legacy2'\n",
            "  Branch 'twitter_legacy2' set up to track remote branch 'twitter_legacy2' from 'origin'.\n",
            "Requirement already satisfied, skipping upgrade: aiohttp in /usr/local/lib/python3.6/dist-packages (from twint==2.1.21) (3.6.2)\n",
            "Requirement already satisfied, skipping upgrade: aiodns in /usr/local/lib/python3.6/dist-packages (from twint==2.1.21) (2.0.0)\n",
            "Requirement already satisfied, skipping upgrade: beautifulsoup4 in /usr/local/lib/python3.6/dist-packages (from twint==2.1.21) (4.6.3)\n",
            "Requirement already satisfied, skipping upgrade: cchardet in /usr/local/lib/python3.6/dist-packages (from twint==2.1.21) (2.1.6)\n",
            "Requirement already satisfied, skipping upgrade: elasticsearch in /usr/local/lib/python3.6/dist-packages (from twint==2.1.21) (7.9.1)\n",
            "Requirement already satisfied, skipping upgrade: pysocks in /usr/local/lib/python3.6/dist-packages (from twint==2.1.21) (1.7.1)\n",
            "Requirement already satisfied, skipping upgrade: pandas in /usr/local/lib/python3.6/dist-packages (from twint==2.1.21) (1.1.2)\n",
            "Requirement already satisfied, skipping upgrade: aiohttp_socks in /usr/local/lib/python3.6/dist-packages (from twint==2.1.21) (0.5.5)\n",
            "Requirement already satisfied, skipping upgrade: schedule in /usr/local/lib/python3.6/dist-packages (from twint==2.1.21) (0.6.0)\n",
            "Requirement already satisfied, skipping upgrade: geopy in /usr/local/lib/python3.6/dist-packages (from twint==2.1.21) (1.17.0)\n",
            "Requirement already satisfied, skipping upgrade: fake-useragent in /usr/local/lib/python3.6/dist-packages (from twint==2.1.21) (0.1.11)\n",
            "Requirement already satisfied, skipping upgrade: googletransx in /usr/local/lib/python3.6/dist-packages (from twint==2.1.21) (2.4.2)\n",
            "Requirement already satisfied, skipping upgrade: yarl<2.0,>=1.0 in /usr/local/lib/python3.6/dist-packages (from aiohttp->twint==2.1.21) (1.6.0)\n",
            "Requirement already satisfied, skipping upgrade: idna-ssl>=1.0; python_version < \"3.7\" in /usr/local/lib/python3.6/dist-packages (from aiohttp->twint==2.1.21) (1.1.0)\n",
            "Requirement already satisfied, skipping upgrade: async-timeout<4.0,>=3.0 in /usr/local/lib/python3.6/dist-packages (from aiohttp->twint==2.1.21) (3.0.1)\n",
            "Requirement already satisfied, skipping upgrade: typing-extensions>=3.6.5; python_version < \"3.7\" in /usr/local/lib/python3.6/dist-packages (from aiohttp->twint==2.1.21) (3.7.4.3)\n",
            "Requirement already satisfied, skipping upgrade: chardet<4.0,>=2.0 in /usr/local/lib/python3.6/dist-packages (from aiohttp->twint==2.1.21) (3.0.4)\n",
            "Requirement already satisfied, skipping upgrade: multidict<5.0,>=4.5 in /usr/local/lib/python3.6/dist-packages (from aiohttp->twint==2.1.21) (4.7.6)\n",
            "Requirement already satisfied, skipping upgrade: attrs>=17.3.0 in /usr/local/lib/python3.6/dist-packages (from aiohttp->twint==2.1.21) (20.2.0)\n",
            "Requirement already satisfied, skipping upgrade: typing; python_version < \"3.7\" in /usr/local/lib/python3.6/dist-packages (from aiodns->twint==2.1.21) (3.7.4.3)\n",
            "Requirement already satisfied, skipping upgrade: pycares>=3.0.0 in /usr/local/lib/python3.6/dist-packages (from aiodns->twint==2.1.21) (3.1.1)\n",
            "Requirement already satisfied, skipping upgrade: certifi in /usr/local/lib/python3.6/dist-packages (from elasticsearch->twint==2.1.21) (2020.6.20)\n",
            "Requirement already satisfied, skipping upgrade: urllib3>=1.21.1 in /usr/local/lib/python3.6/dist-packages (from elasticsearch->twint==2.1.21) (1.24.3)\n",
            "Requirement already satisfied, skipping upgrade: pytz>=2017.2 in /usr/local/lib/python3.6/dist-packages (from pandas->twint==2.1.21) (2018.9)\n",
            "Requirement already satisfied, skipping upgrade: numpy>=1.15.4 in /usr/local/lib/python3.6/dist-packages (from pandas->twint==2.1.21) (1.18.5)\n",
            "Requirement already satisfied, skipping upgrade: python-dateutil>=2.7.3 in /usr/local/lib/python3.6/dist-packages (from pandas->twint==2.1.21) (2.8.1)\n",
            "Requirement already satisfied, skipping upgrade: python-socks[asyncio]>=1.0.1 in /usr/local/lib/python3.6/dist-packages (from aiohttp_socks->twint==2.1.21) (1.1.0)\n",
            "Requirement already satisfied, skipping upgrade: geographiclib<2,>=1.49 in /usr/local/lib/python3.6/dist-packages (from geopy->twint==2.1.21) (1.50)\n",
            "Requirement already satisfied, skipping upgrade: requests in /usr/local/lib/python3.6/dist-packages (from googletransx->twint==2.1.21) (2.23.0)\n",
            "Requirement already satisfied, skipping upgrade: idna>=2.0 in /usr/local/lib/python3.6/dist-packages (from yarl<2.0,>=1.0->aiohttp->twint==2.1.21) (2.10)\n",
            "Requirement already satisfied, skipping upgrade: cffi>=1.5.0 in /usr/local/lib/python3.6/dist-packages (from pycares>=3.0.0->aiodns->twint==2.1.21) (1.14.3)\n",
            "Requirement already satisfied, skipping upgrade: six>=1.5 in /usr/local/lib/python3.6/dist-packages (from python-dateutil>=2.7.3->pandas->twint==2.1.21) (1.15.0)\n",
            "Requirement already satisfied, skipping upgrade: pycparser in /usr/local/lib/python3.6/dist-packages (from cffi>=1.5.0->pycares>=3.0.0->aiodns->twint==2.1.21) (2.20)\n",
            "Building wheels for collected packages: twint\n",
            "  Building wheel for twint (setup.py) ... \u001b[?25l\u001b[?25hdone\n",
            "  Created wheel for twint: filename=twint-2.1.21-cp36-none-any.whl size=35679 sha256=ab3083e4ff4945671bcbee49d872c762ccb108c64c77c911bdd5d31a2afec48e\n",
            "  Stored in directory: /tmp/pip-ephem-wheel-cache-rr9borwf/wheels/9d/a3/ed/c670c59be611f0ec8f9f8359828fe8c973682067a4e494c89f\n",
            "Successfully built twint\n",
            "Installing collected packages: twint\n",
            "  Found existing installation: twint 2.1.21\n",
            "    Uninstalling twint-2.1.21:\n",
            "      Successfully uninstalled twint-2.1.21\n",
            "Successfully installed twint-2.1.21\n"
          ],
          "name": "stdout"
        }
      ]
    },
    {
      "cell_type": "code",
      "metadata": {
        "id": "04c8JSY7Q9sb",
        "outputId": "ed1ebd50-effd-40ac-efcc-96fbe1c39406",
        "colab": {
          "base_uri": "https://localhost:8080/",
          "height": 36
        }
      },
      "source": [
        "!pip install nest_asyncio"
      ],
      "execution_count": null,
      "outputs": [
        {
          "output_type": "stream",
          "text": [
            "Requirement already satisfied: nest_asyncio in /usr/local/lib/python3.6/dist-packages (1.4.1)\n"
          ],
          "name": "stdout"
        }
      ]
    },
    {
      "cell_type": "code",
      "metadata": {
        "id": "a_UNjvw7RBT9"
      },
      "source": [
        "import nest_asyncio\n",
        "nest_asyncio.apply()"
      ],
      "execution_count": null,
      "outputs": []
    },
    {
      "cell_type": "code",
      "metadata": {
        "id": "YKPDb5uoREAF"
      },
      "source": [
        "import twint\n",
        "# Set up TWINT config\n",
        "c = twint.Config()"
      ],
      "execution_count": null,
      "outputs": []
    },
    {
      "cell_type": "code",
      "metadata": {
        "id": "YyI6cnb3cDVr",
        "outputId": "d80b2a76-78b6-438a-beb8-024336f36bcb",
        "colab": {
          "base_uri": "https://localhost:8080/",
          "height": 54
        }
      },
      "source": [
        "import datetime as dt     \n",
        "date = dt.date.today()#- dt.timedelta(days=1) #.strftime('%Y-%m-%d')\n",
        "print(date)\n",
        "dateAnt = dt.date.today()- dt.timedelta(days=1) #.strftime('%Y-%m-%d')\n",
        "print(dateAnt)"
      ],
      "execution_count": null,
      "outputs": [
        {
          "output_type": "stream",
          "text": [
            "2020-10-09\n",
            "2020-10-08\n"
          ],
          "name": "stdout"
        }
      ]
    },
    {
      "cell_type": "code",
      "metadata": {
        "id": "_cCqPpQalK9T"
      },
      "source": [
        "import datetime as dt   "
      ],
      "execution_count": null,
      "outputs": []
    },
    {
      "cell_type": "markdown",
      "metadata": {
        "id": "BMah2Zv1g40O"
      },
      "source": [
        "Aplicando libreria Twint "
      ]
    },
    {
      "cell_type": "code",
      "metadata": {
        "id": "a7xGzqGAgVvD",
        "outputId": "c97f8c33-c307-4cda-f447-a71d68b5877f",
        "colab": {
          "base_uri": "https://localhost:8080/",
          "height": 54
        }
      },
      "source": [
        "num=10\n",
        "num_b=num+1\n",
        "\n",
        "date = dt.date.today()- dt.timedelta(days=num)\n",
        "print(date)\n",
        "dateAnt = dt.date.today()- dt.timedelta(days=num_b)\n",
        "print(dateAnt)"
      ],
      "execution_count": null,
      "outputs": [
        {
          "output_type": "stream",
          "text": [
            "2020-09-30\n",
            "2020-09-29\n"
          ],
          "name": "stdout"
        }
      ]
    },
    {
      "cell_type": "code",
      "metadata": {
        "id": "iothA2Vy9ew6"
      },
      "source": [
        "c = twint.Config() \n",
        "c.Search = \"from:@grupoeldeber\" \n",
        "c.Since = str(dateAnt)+' 00:00:00'\n",
        "c.Until = str(date)+' 00:00:00'\n",
        "c.Limit = 200\n",
        "twint.run.Search(c) \n",
        "tlist4 = c.search_tweet_list"
      ],
      "execution_count": null,
      "outputs": []
    },
    {
      "cell_type": "code",
      "metadata": {
        "id": "7dLH-Fp8RVrT"
      },
      "source": [
        "tlist4 = c.search_tweet_list"
      ],
      "execution_count": null,
      "outputs": []
    },
    {
      "cell_type": "markdown",
      "metadata": {
        "id": "pbHJtI48Wl4u"
      },
      "source": [
        "**Exportando a csv**"
      ]
    },
    {
      "cell_type": "code",
      "metadata": {
        "id": "WGr54Jy4blcd"
      },
      "source": [
        "import pandas as pd\n",
        "dfItem = pd.DataFrame.from_records(tlist4)"
      ],
      "execution_count": null,
      "outputs": []
    },
    {
      "cell_type": "code",
      "metadata": {
        "id": "WPyBnSruoBh8",
        "outputId": "70b62e70-e35c-4579-90b5-d06b3ee1b70a",
        "colab": {
          "base_uri": "https://localhost:8080/",
          "height": 36
        }
      },
      "source": [
        "dfItem.shape"
      ],
      "execution_count": null,
      "outputs": [
        {
          "output_type": "execute_result",
          "data": {
            "text/plain": [
              "(200, 6)"
            ]
          },
          "metadata": {
            "tags": []
          },
          "execution_count": 222
        }
      ]
    },
    {
      "cell_type": "code",
      "metadata": {
        "id": "JxNSA2nvfoOG",
        "outputId": "47180bf0-066a-4caf-f6aa-391905e6217d",
        "colab": {
          "base_uri": "https://localhost:8080/",
          "height": 36
        }
      },
      "source": [
        "nombre='EL_DEBER_29SEPT'\n",
        "nombre_archivo= nombre+'_'+str(dateAnt)+'.csv'\n",
        "print(nombre_archivo)"
      ],
      "execution_count": null,
      "outputs": [
        {
          "output_type": "stream",
          "text": [
            "EL_DEBER_29SEPT_2020-09-29.csv\n"
          ],
          "name": "stdout"
        }
      ]
    },
    {
      "cell_type": "code",
      "metadata": {
        "id": "U_13xnGJb_ao"
      },
      "source": [
        "dfItem.to_csv(nombre_archivo,encoding='utf-8-sig', index=False)"
      ],
      "execution_count": null,
      "outputs": []
    },
    {
      "cell_type": "markdown",
      "metadata": {
        "id": "YwdwTNp71bZq"
      },
      "source": [
        "# por lotes"
      ]
    },
    {
      "cell_type": "code",
      "metadata": {
        "id": "g-h7E-gr1ekF",
        "outputId": "fda55f7c-2173-48db-f6a4-c4f1c5e3fbef",
        "colab": {
          "base_uri": "https://localhost:8080/",
          "height": 391
        }
      },
      "source": [
        "inicio=35\n",
        "for i in range(5):\n",
        "  num=inicio+i\n",
        "  num_b=num+1\n",
        "\n",
        "  date = dt.date.today()- dt.timedelta(days=num)\n",
        "  print(date)\n",
        "  dateAnt = dt.date.today()- dt.timedelta(days=num_b)\n",
        "  print(dateAnt)\n",
        "\n",
        "  c = twint.Config() \n",
        "  c.Search = \"from:@grupoeldeber\" \n",
        "  c.Since = str(dateAnt)\n",
        "  c.Until = str(date)\n",
        "  c.Limit = 500\n",
        "  twint.run.Search(c) \n",
        "\n",
        "  tlist4 = c.search_tweet_list\n",
        "\n",
        "  dfItem = pd.DataFrame.from_records(tlist4)\n",
        "\n",
        "  nombre='elDeber'\n",
        "  nombre_archivo= nombre+'_'+str(dateAnt)+'.csv'\n",
        "  print(nombre_archivo)\n",
        "\n",
        "  dfItem.to_csv(nombre_archivo,encoding='utf-8-sig', index=False)\n",
        "  print(\"Hecho\")"
      ],
      "execution_count": null,
      "outputs": [
        {
          "output_type": "stream",
          "text": [
            "2020-09-05\n",
            "2020-09-04\n",
            "elDeber_2020-09-04.csv\n",
            "Hecho\n",
            "2020-09-04\n",
            "2020-09-03\n",
            "elDeber_2020-09-03.csv\n",
            "Hecho\n",
            "2020-09-03\n",
            "2020-09-02\n",
            "elDeber_2020-09-02.csv\n",
            "Hecho\n",
            "2020-09-02\n",
            "2020-09-01\n",
            "elDeber_2020-09-01.csv\n",
            "Hecho\n",
            "2020-09-01\n",
            "2020-08-31\n",
            "elDeber_2020-08-31.csv\n",
            "Hecho\n"
          ],
          "name": "stdout"
        }
      ]
    }
  ]
}