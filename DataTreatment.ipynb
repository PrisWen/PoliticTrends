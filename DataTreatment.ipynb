{
  "nbformat": 4,
  "nbformat_minor": 0,
  "metadata": {
    "colab": {
      "name": "DataTreatment.ipynb",
      "provenance": [],
      "collapsed_sections": []
    },
    "kernelspec": {
      "name": "python3",
      "display_name": "Python 3"
    }
  },
  "cells": [
    {
      "cell_type": "markdown",
      "metadata": {
        "id": "rNI67B7bm5FB"
      },
      "source": [
        "manejo de archivos, etiquetas y filtros"
      ]
    },
    {
      "cell_type": "code",
      "metadata": {
        "id": "VKrzSg0yWcSP"
      },
      "source": [
        "import os\n",
        "import glob\n",
        "import pandas as pd\n",
        "\n",
        "def get_merged_csv(flist, **kwargs):\n",
        "    return pd.concat([pd.read_csv(f, **kwargs) for f in flist], ignore_index=True)\n"
      ],
      "execution_count": null,
      "outputs": []
    },
    {
      "cell_type": "code",
      "metadata": {
        "id": "qrMu8yrCc6Hu",
        "outputId": "97a5ac14-f631-46b8-afbe-630e1ae949be",
        "colab": {
          "base_uri": "https://localhost:8080/",
          "height": 166
        }
      },
      "source": [
        "\n",
        "path = \"/content/drive/My Drive/Hackaton Elecciones/datos compilados/elDeber\"\n",
        "fmask = os.path.join(path, '*.csv')\n",
        "\n",
        "df_deber = get_merged_csv(glob.glob(fmask), index_col=None, usecols=['date','tweet','data-item-id','username'])\n",
        "\n",
        "print(df_deber.head())"
      ],
      "execution_count": null,
      "outputs": [
        {
          "output_type": "stream",
          "text": [
            "          data-item-id  ...        date\n",
            "0  1312035188923301891  ...  2020-10-02\n",
            "1  1312064719696601088  ...  2020-10-02\n",
            "2  1312065879157374979  ...  2020-10-02\n",
            "3  1312066077921349633  ...  2020-10-02\n",
            "4  1312024628693479424  ...  2020-10-02\n",
            "\n",
            "[5 rows x 4 columns]\n"
          ],
          "name": "stdout"
        }
      ]
    },
    {
      "cell_type": "code",
      "metadata": {
        "id": "R4DgvePHdhhP",
        "outputId": "3a51110a-9c27-4ef1-bd6c-27ab3713b0f1",
        "colab": {
          "base_uri": "https://localhost:8080/",
          "height": 36
        }
      },
      "source": [
        "df_deber.shape"
      ],
      "execution_count": null,
      "outputs": [
        {
          "output_type": "execute_result",
          "data": {
            "text/plain": [
              "(19620, 4)"
            ]
          },
          "metadata": {
            "tags": []
          },
          "execution_count": 21
        }
      ]
    },
    {
      "cell_type": "code",
      "metadata": {
        "id": "04J5E2lFj6eE"
      },
      "source": [
        "# Remove Duplicate rows\n",
        "df_deber.drop_duplicates(subset=None, inplace=True)"
      ],
      "execution_count": null,
      "outputs": []
    },
    {
      "cell_type": "code",
      "metadata": {
        "id": "oTA8GwWqj_sD",
        "outputId": "e7c3295f-d9cb-411e-d800-790f55b1ed37",
        "colab": {
          "base_uri": "https://localhost:8080/",
          "height": 36
        }
      },
      "source": [
        "df_deber.shape"
      ],
      "execution_count": null,
      "outputs": [
        {
          "output_type": "execute_result",
          "data": {
            "text/plain": [
              "(1213, 4)"
            ]
          },
          "metadata": {
            "tags": []
          },
          "execution_count": 23
        }
      ]
    },
    {
      "cell_type": "code",
      "metadata": {
        "id": "OuMqd8-Sd65I"
      },
      "source": [
        "df_deber.to_csv('el_deber_consolidado.csv',encoding='utf-8-sig', index=False)"
      ],
      "execution_count": null,
      "outputs": []
    },
    {
      "cell_type": "code",
      "metadata": {
        "id": "ZR-WXgwMe64g"
      },
      "source": [
        "df_deber.to_excel('el_deber_consolidado.xlsx',encoding='utf-8-sig', index = False, header=True)"
      ],
      "execution_count": null,
      "outputs": []
    },
    {
      "cell_type": "code",
      "metadata": {
        "id": "MJIZYthHq10P",
        "outputId": "f49e3b07-ed6e-4136-fab3-58ee47b6ceaa",
        "colab": {
          "base_uri": "https://localhost:8080/",
          "height": 166
        }
      },
      "source": [
        "def get_merged_csv(flist, **kwargs):\n",
        "    return pd.concat([pd.read_csv(f, **kwargs) for f in flist], ignore_index=True)\n",
        "\n",
        "path = \"/content/drive/My Drive/Hackaton Elecciones/datos compilados/laRazon\"\n",
        "fmask = os.path.join(path, '*.csv')\n",
        "\n",
        "df_razon = get_merged_csv(glob.glob(fmask), index_col=None, usecols=['date','tweet','data-item-id','username'])\n",
        "\n",
        "print(df_razon.head())"
      ],
      "execution_count": null,
      "outputs": [
        {
          "output_type": "stream",
          "text": [
            "          data-item-id  ...        date\n",
            "0  1314264732040409089  ...  2020-10-08\n",
            "1  1314246652656582660  ...  2020-10-08\n",
            "2  1314207483884261377  ...  2020-10-08\n",
            "3  1314022369288024064  ...  2020-10-07\n",
            "4  1314046779554508801  ...  2020-10-07\n",
            "\n",
            "[5 rows x 4 columns]\n"
          ],
          "name": "stdout"
        }
      ]
    },
    {
      "cell_type": "code",
      "metadata": {
        "id": "TKPM0Gglq91N",
        "outputId": "b5570afc-3f88-4bbf-a867-5badd60e2900",
        "colab": {
          "base_uri": "https://localhost:8080/",
          "height": 36
        }
      },
      "source": [
        "df_razon.shape"
      ],
      "execution_count": null,
      "outputs": [
        {
          "output_type": "execute_result",
          "data": {
            "text/plain": [
              "(19701, 4)"
            ]
          },
          "metadata": {
            "tags": []
          },
          "execution_count": 27
        }
      ]
    },
    {
      "cell_type": "code",
      "metadata": {
        "id": "e7wQMdLjrCV2"
      },
      "source": [
        "# Remove Duplicate rows\n",
        "df_razon.drop_duplicates(subset=None, inplace=True)"
      ],
      "execution_count": null,
      "outputs": []
    },
    {
      "cell_type": "code",
      "metadata": {
        "id": "qjtpIqMWrFp4"
      },
      "source": [
        "df_razon.to_csv('la_razon_consolidado.csv',encoding='utf-8-sig', index=False)"
      ],
      "execution_count": null,
      "outputs": []
    },
    {
      "cell_type": "code",
      "metadata": {
        "id": "OgG6ytoArICq"
      },
      "source": [
        "df_razon.to_excel('la_razon_consolidado.xlsx',encoding='utf-8-sig', index = False, header=True)"
      ],
      "execution_count": null,
      "outputs": []
    },
    {
      "cell_type": "markdown",
      "metadata": {
        "id": "kiB_Y0I-Vg4l"
      },
      "source": [
        "union de datos de partidos por diario"
      ]
    },
    {
      "cell_type": "code",
      "metadata": {
        "id": "prmSpJsGVe2s",
        "outputId": "b1de1288-389c-439c-fbc9-495eed6af087",
        "colab": {
          "base_uri": "https://localhost:8080/",
          "height": 166
        }
      },
      "source": [
        "path = \"/content/drive/My Drive/Hackaton Elecciones/test/por candidatos/el deber\"\n",
        "fmask = os.path.join(path, '*.csv')\n",
        "\n",
        "df_razon = get_merged_csv(glob.glob(fmask), index_col=None, usecols=['date','tweet','data-item-id','username','partido'])\n",
        "\n",
        "print(df_razon.head())"
      ],
      "execution_count": null,
      "outputs": [
        {
          "output_type": "stream",
          "text": [
            "          data-item-id       username  ...        date partido\n",
            "0  1313468485427752961  @grupoeldeber  ...  2020-10-06      CC\n",
            "1  1311447628618530817  @grupoeldeber  ...  2020-09-30      CC\n",
            "2  1309946062740828162  @grupoeldeber  ...  2020-09-26      CC\n",
            "3  1309999917130297346  @grupoeldeber  ...  2020-09-26      CC\n",
            "4  1307450635990728704  @grupoeldeber  ...  2020-09-19      CC\n",
            "\n",
            "[5 rows x 5 columns]\n"
          ],
          "name": "stdout"
        }
      ]
    },
    {
      "cell_type": "code",
      "metadata": {
        "id": "pjM14k0iVe25",
        "outputId": "c024961b-74ef-4778-c13a-1128366a2c60",
        "colab": {
          "base_uri": "https://localhost:8080/",
          "height": 36
        }
      },
      "source": [
        "df_razon.shape"
      ],
      "execution_count": null,
      "outputs": [
        {
          "output_type": "execute_result",
          "data": {
            "text/plain": [
              "(88, 5)"
            ]
          },
          "metadata": {
            "tags": []
          },
          "execution_count": 14
        }
      ]
    },
    {
      "cell_type": "code",
      "metadata": {
        "id": "a_jqoCmMVe3G"
      },
      "source": [
        "df_razon.to_csv('el_deber_partidos.csv',encoding='utf-8-sig', index=False)"
      ],
      "execution_count": null,
      "outputs": []
    },
    {
      "cell_type": "code",
      "metadata": {
        "id": "e983xyyxVe3M"
      },
      "source": [
        "df_razon.to_excel('el_deber_partidos.xlsx',encoding='utf-8-sig', index = False, header=True)"
      ],
      "execution_count": null,
      "outputs": []
    },
    {
      "cell_type": "code",
      "metadata": {
        "id": "gbBrCgSfW8fH"
      },
      "source": [
        ""
      ],
      "execution_count": null,
      "outputs": []
    },
    {
      "cell_type": "code",
      "metadata": {
        "id": "VCkjyK-tW88m",
        "outputId": "da667eaf-647e-4801-8886-b3de45aea568",
        "colab": {
          "base_uri": "https://localhost:8080/",
          "height": 206
        }
      },
      "source": [
        "path = \"/content/drive/My Drive/Hackaton Elecciones/test/por candidatos/la razon\"\n",
        "fmask = os.path.join(path, '*.csv')\n",
        "\n",
        "df_razon = get_merged_csv(glob.glob(fmask), index_col=None, usecols=['date','tweet','data-item-id','username','partido'])\n",
        "\n",
        "df_razon.head()"
      ],
      "execution_count": null,
      "outputs": [
        {
          "output_type": "execute_result",
          "data": {
            "text/html": [
              "<div>\n",
              "<style scoped>\n",
              "    .dataframe tbody tr th:only-of-type {\n",
              "        vertical-align: middle;\n",
              "    }\n",
              "\n",
              "    .dataframe tbody tr th {\n",
              "        vertical-align: top;\n",
              "    }\n",
              "\n",
              "    .dataframe thead th {\n",
              "        text-align: right;\n",
              "    }\n",
              "</style>\n",
              "<table border=\"1\" class=\"dataframe\">\n",
              "  <thead>\n",
              "    <tr style=\"text-align: right;\">\n",
              "      <th></th>\n",
              "      <th>data-item-id</th>\n",
              "      <th>username</th>\n",
              "      <th>tweet</th>\n",
              "      <th>date</th>\n",
              "      <th>partido</th>\n",
              "    </tr>\n",
              "  </thead>\n",
              "  <tbody>\n",
              "    <tr>\n",
              "      <th>0</th>\n",
              "      <td>1314042118357291009</td>\n",
              "      <td>@LaRazon_Bolivia</td>\n",
              "      <td>#AnimalPolítico \\nViene la elección más polar...</td>\n",
              "      <td>2020-10-07</td>\n",
              "      <td>CC</td>\n",
              "    </tr>\n",
              "    <tr>\n",
              "      <th>1</th>\n",
              "      <td>1313854330873749504</td>\n",
              "      <td>@LaRazon_Bolivia</td>\n",
              "      <td>#PiedraPapelYTinta #EleccionesBolivia \\nMerca...</td>\n",
              "      <td>2020-10-07</td>\n",
              "      <td>CC</td>\n",
              "    </tr>\n",
              "    <tr>\n",
              "      <th>2</th>\n",
              "      <td>1313543998515154948</td>\n",
              "      <td>@LaRazon_Bolivia</td>\n",
              "      <td>#Nacional #EleccionesBolivia \\nEl candidato d...</td>\n",
              "      <td>2020-10-06</td>\n",
              "      <td>CC</td>\n",
              "    </tr>\n",
              "    <tr>\n",
              "      <th>3</th>\n",
              "      <td>1313323532231811072</td>\n",
              "      <td>@LaRazon_Bolivia</td>\n",
              "      <td>#Nacional #PiedraPapelYTinta \\nLos voceros de...</td>\n",
              "      <td>2020-10-05</td>\n",
              "      <td>CC</td>\n",
              "    </tr>\n",
              "    <tr>\n",
              "      <th>4</th>\n",
              "      <td>1313499644756926464</td>\n",
              "      <td>@LaRazon_Bolivia</td>\n",
              "      <td>#PiedraPapelYTinta #EleccionesBolivia\\nNovill...</td>\n",
              "      <td>2020-10-06</td>\n",
              "      <td>CC</td>\n",
              "    </tr>\n",
              "  </tbody>\n",
              "</table>\n",
              "</div>"
            ],
            "text/plain": [
              "          data-item-id          username  ...        date partido\n",
              "0  1314042118357291009  @LaRazon_Bolivia  ...  2020-10-07      CC\n",
              "1  1313854330873749504  @LaRazon_Bolivia  ...  2020-10-07      CC\n",
              "2  1313543998515154948  @LaRazon_Bolivia  ...  2020-10-06      CC\n",
              "3  1313323532231811072  @LaRazon_Bolivia  ...  2020-10-05      CC\n",
              "4  1313499644756926464  @LaRazon_Bolivia  ...  2020-10-06      CC\n",
              "\n",
              "[5 rows x 5 columns]"
            ]
          },
          "metadata": {
            "tags": []
          },
          "execution_count": 17
        }
      ]
    },
    {
      "cell_type": "code",
      "metadata": {
        "id": "sx7teg8tW881",
        "outputId": "91f94807-baaf-4348-c41c-94de3510d739",
        "colab": {
          "base_uri": "https://localhost:8080/",
          "height": 36
        }
      },
      "source": [
        "df_razon.shape"
      ],
      "execution_count": null,
      "outputs": [
        {
          "output_type": "execute_result",
          "data": {
            "text/plain": [
              "(143, 5)"
            ]
          },
          "metadata": {
            "tags": []
          },
          "execution_count": 18
        }
      ]
    },
    {
      "cell_type": "code",
      "metadata": {
        "id": "GMbWndFMW89D"
      },
      "source": [
        "df_razon.to_csv('la_razon_partidos.csv',encoding='utf-8-sig', index=False)"
      ],
      "execution_count": null,
      "outputs": []
    },
    {
      "cell_type": "code",
      "metadata": {
        "id": "zVlqperPW89N"
      },
      "source": [
        "df_razon.to_excel('la_razon_partidos.xlsx',encoding='utf-8-sig', index = False, header=True)"
      ],
      "execution_count": null,
      "outputs": []
    }
  ]
}